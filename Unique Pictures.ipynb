{
 "cells": [
  {
   "cell_type": "markdown",
   "metadata": {},
   "source": [
    "# Imports"
   ]
  },
  {
   "cell_type": "code",
   "execution_count": null,
   "metadata": {},
   "outputs": [],
   "source": [
    "%load_ext autoreload\n",
    "%autoreload 2"
   ]
  },
  {
   "cell_type": "code",
   "execution_count": null,
   "metadata": {},
   "outputs": [],
   "source": [
    "import pandas as pd\n",
    "\n",
    "from pathlib import Path\n",
    "\n",
    "from cleanup import UniqueIDer, gen_result_df"
   ]
  },
  {
   "cell_type": "markdown",
   "metadata": {},
   "source": [
    "# Load"
   ]
  },
  {
   "cell_type": "markdown",
   "metadata": {},
   "source": [
    "### Set Paths"
   ]
  },
  {
   "cell_type": "code",
   "execution_count": null,
   "metadata": {},
   "outputs": [],
   "source": [
    "pickle_folder = Path(r'jsl\\OneDrive-2020-01-30')\n",
    "# yaml_path = Path(r'jsl\\jsl.yaml')\n",
    "yaml_path = Path(r'jsl\\PhotoOrg-JDL.yaml')"
   ]
  },
  {
   "cell_type": "markdown",
   "metadata": {},
   "source": [
    "### Load from folder"
   ]
  },
  {
   "cell_type": "code",
   "execution_count": null,
   "metadata": {},
   "outputs": [],
   "source": [
    "print(f'Loading pickle files from:\\n{str(pickle_folder.resolve())}')\n",
    "\n",
    "def load_and_print(file):\n",
    "    print(f'Loading {file.stat().st_size / (10**6):.2f} MB from {file.name}')\n",
    "    return pd.read_pickle(file)\n",
    "\n",
    "df = pd.concat([load_and_print(f) for f in pickle_folder.glob('*.pkl') if 'jdl' not in f.name], sort=False)\n",
    "df = df.reset_index(drop=True)\n",
    "\n",
    "print(f'Loaded {df.shape[0]} files, {df.memory_usage().sum() / (10**6):.2f} MB DataFrame')"
   ]
  },
  {
   "cell_type": "markdown",
   "metadata": {},
   "source": [
    "# Find Unique Files"
   ]
  },
  {
   "cell_type": "markdown",
   "metadata": {},
   "source": [
    "Create the Object that's going to process the files from your YAML file, which has all the settings for file inclusion/exclusion"
   ]
  },
  {
   "cell_type": "code",
   "execution_count": null,
   "metadata": {
    "scrolled": false
   },
   "outputs": [],
   "source": [
    "uid = UniqueIDer.from_yaml(yaml_path, df)\n",
    "uid.df.to_pickle(pickle_folder / 'jdl_filtered.pkl')"
   ]
  },
  {
   "cell_type": "markdown",
   "metadata": {},
   "source": [
    "Process the files in groups using unique combinations of the values in columns\n",
    "- `st_size`\n",
    "- `suffix`\n",
    "- `shortname`\n",
    "\n",
    "The `suffix` and `shortname` columns are created during processing. You can also customize the set of columns used for grouping like this:  \n",
    "`uid.flat_process(keys=[col1, col2, ...])`"
   ]
  },
  {
   "cell_type": "code",
   "execution_count": null,
   "metadata": {},
   "outputs": [],
   "source": [
    "uid.process(priority_keyword='Lightroom')\n",
    "'Some files were marked both dup and unique' if (uid.mask_u == uid.mask_d).any() else 'Processing worked'"
   ]
  },
  {
   "cell_type": "markdown",
   "metadata": {},
   "source": [
    "# Save Unique Files"
   ]
  },
  {
   "cell_type": "markdown",
   "metadata": {},
   "source": [
    "It will default to saving in the same folder as your YAML file"
   ]
  },
  {
   "cell_type": "code",
   "execution_count": null,
   "metadata": {},
   "outputs": [],
   "source": [
    "uid.unique.to_csv(pickle_folder / 'jdl_unique.csv')\n",
    "uid.unique.to_pickle(pickle_folder / 'jdl_unique.pkl')"
   ]
  },
  {
   "cell_type": "code",
   "execution_count": null,
   "metadata": {},
   "outputs": [],
   "source": []
  }
 ],
 "metadata": {
  "kernelspec": {
   "display_name": "Python 3",
   "language": "python",
   "name": "python3"
  },
  "language_info": {
   "codemirror_mode": {
    "name": "ipython",
    "version": 3
   },
   "file_extension": ".py",
   "mimetype": "text/x-python",
   "name": "python",
   "nbconvert_exporter": "python",
   "pygments_lexer": "ipython3",
   "version": "3.7.2"
  }
 },
 "nbformat": 4,
 "nbformat_minor": 4
}
