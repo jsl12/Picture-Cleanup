{
 "cells": [
  {
   "cell_type": "markdown",
   "metadata": {},
   "source": [
    "# Imports"
   ]
  },
  {
   "cell_type": "code",
   "execution_count": null,
   "metadata": {},
   "outputs": [],
   "source": [
    "%load_ext autoreload\n",
    "%autoreload 2"
   ]
  },
  {
   "cell_type": "code",
   "execution_count": null,
   "metadata": {},
   "outputs": [],
   "source": [
    "import pandas as pd\n",
    "import qgrid\n",
    "import yaml\n",
    "\n",
    "import ipywidgets as widgets\n",
    "from pathlib import Path\n",
    "\n",
    "from interface import DupInterface\n",
    "import table"
   ]
  },
  {
   "cell_type": "markdown",
   "metadata": {},
   "source": [
    "# Config"
   ]
  },
  {
   "cell_type": "code",
   "execution_count": null,
   "metadata": {},
   "outputs": [],
   "source": [
    "pickle_df = r'jsl\\df.pkl'\n",
    "cols_to_show = [\n",
    "    'filename',\n",
    "    'st_size',\n",
    "    'path'\n",
    "]\n",
    "idx = 'st_size'\n",
    "record_id = 'guid'"
   ]
  },
  {
   "cell_type": "markdown",
   "metadata": {},
   "source": [
    "# Load DataFrame"
   ]
  },
  {
   "cell_type": "code",
   "execution_count": null,
   "metadata": {},
   "outputs": [],
   "source": [
    "df = pd.read_pickle(pickle_df)\n",
    "df.index = pd.RangeIndex(0, df.shape[0], name=record_id)"
   ]
  },
  {
   "cell_type": "markdown",
   "metadata": {},
   "source": [
    "# QGrid"
   ]
  },
  {
   "cell_type": "code",
   "execution_count": null,
   "metadata": {
    "scrolled": false
   },
   "outputs": [],
   "source": [
    "di = DupInterface(\n",
    "        df,\n",
    "        qgrid_opts={\n",
    "            'grid_options': {'forceFitColumns': False},\n",
    "            'column_definitions': {\n",
    "                record_id: {'minWidth': 30, 'width': 50},\n",
    "                'filename': {'minWidth': 80, 'width': 200},\n",
    "                'path': {'minWidth': 200, 'width': 500},\n",
    "                'st_size': { 'minWidth': 60, 'width': 80},\n",
    "            }\n",
    "        }\n",
    ")\n",
    "display(di.widget)"
   ]
  }
 ],
 "metadata": {
  "kernelspec": {
   "display_name": "Python 3",
   "language": "python",
   "name": "python3"
  },
  "language_info": {
   "codemirror_mode": {
    "name": "ipython",
    "version": 3
   },
   "file_extension": ".py",
   "mimetype": "text/x-python",
   "name": "python",
   "nbconvert_exporter": "python",
   "pygments_lexer": "ipython3",
   "version": "3.7.2"
  }
 },
 "nbformat": 4,
 "nbformat_minor": 4
}
