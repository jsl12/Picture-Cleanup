{
 "cells": [
  {
   "cell_type": "markdown",
   "metadata": {},
   "source": [
    "# Imports"
   ]
  },
  {
   "cell_type": "code",
   "execution_count": null,
   "metadata": {},
   "outputs": [],
   "source": [
    "%load_ext autoreload\n",
    "%autoreload 2"
   ]
  },
  {
   "cell_type": "code",
   "execution_count": null,
   "metadata": {},
   "outputs": [],
   "source": [
    "import pandas as pd\n",
    "import numpy as np\n",
    "import qgrid\n",
    "import yaml\n",
    "\n",
    "from pathlib import Path\n",
    "\n",
    "from cleanup import DupInterface, grid_from_yaml\n",
    "from cleanup import SizeSorter\n",
    "from cleanup import stat_df\n",
    "from cleanup.df import utils"
   ]
  },
  {
   "cell_type": "markdown",
   "metadata": {},
   "source": [
    "# Load"
   ]
  },
  {
   "cell_type": "code",
   "execution_count": null,
   "metadata": {},
   "outputs": [],
   "source": [
    "yaml_path = Path(r'jsl\\jsl.yaml')\n",
    "yaml_path = Path(r'C:\\Users\\lanca_000\\Documents\\Software\\Python\\Picture Cleanup\\jsl\\PhotoOrg-JDL.yaml')\n",
    "\n",
    "df = utils.load_yaml(yaml_path)"
   ]
  },
  {
   "cell_type": "markdown",
   "metadata": {},
   "source": [
    "# Sort"
   ]
  },
  {
   "cell_type": "code",
   "execution_count": null,
   "metadata": {
    "scrolled": true
   },
   "outputs": [],
   "source": [
    "ss = SizeSorter.from_yaml(yaml_path, df)\n",
    "ss.flat_process()\n",
    "'Bad' if (ss.mask_u == ss.mask_d).any() else 'Good'"
   ]
  },
  {
   "cell_type": "code",
   "execution_count": null,
   "metadata": {
    "scrolled": false
   },
   "outputs": [],
   "source": [
    "with Path(yaml_path).open('r') as file:\n",
    "    cfg = yaml.load(file, Loader=yaml.SafeLoader)\n",
    "\n",
    "bool_cols = ss.df.select_dtypes(bool).columns.to_list()\n",
    "cols = cfg['default_columns'] + bool_cols\n",
    "\n",
    "g = grid_from_yaml(yaml_path, ss.df[cols + bool_cols])\n",
    "dups = ss.df.duplicated(['st_size', 'shortname', 'suffix'], keep=False)\n",
    "g.df = ss.df[dups]\n",
    "display(g)"
   ]
  },
  {
   "cell_type": "code",
   "execution_count": null,
   "metadata": {},
   "outputs": [],
   "source": [
    "g.df = ss.df[dups].sort_values(['st_size', 'pathdate'], ascending=True)\n",
    "temp_df = g.get_changed_df()\n",
    "idx = temp_df[temp_df['mask_u']].index\n",
    "g.change_selection(idx)"
   ]
  },
  {
   "cell_type": "markdown",
   "metadata": {},
   "source": [
    "# QGrid"
   ]
  },
  {
   "cell_type": "code",
   "execution_count": null,
   "metadata": {
    "scrolled": false
   },
   "outputs": [],
   "source": [
    "di = DupInterface.from_yaml(yaml_path)\n",
    "di._df = df\n",
    "di.render()\n",
    "display(di.widget)"
   ]
  }
 ],
 "metadata": {
  "kernelspec": {
   "display_name": "Python 3",
   "language": "python",
   "name": "python3"
  },
  "language_info": {
   "codemirror_mode": {
    "name": "ipython",
    "version": 3
   },
   "file_extension": ".py",
   "mimetype": "text/x-python",
   "name": "python",
   "nbconvert_exporter": "python",
   "pygments_lexer": "ipython3",
   "version": "3.7.2"
  }
 },
 "nbformat": 4,
 "nbformat_minor": 4
}
