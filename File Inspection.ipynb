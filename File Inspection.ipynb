{
 "cells": [
  {
   "cell_type": "markdown",
   "metadata": {},
   "source": [
    "# Imports"
   ]
  },
  {
   "cell_type": "code",
   "execution_count": null,
   "metadata": {},
   "outputs": [],
   "source": [
    "%load_ext autoreload\n",
    "%autoreload 2"
   ]
  },
  {
   "cell_type": "code",
   "execution_count": null,
   "metadata": {},
   "outputs": [],
   "source": [
    "import pandas as pd\n",
    "import qgrid\n",
    "import yaml\n",
    "\n",
    "import ipywidgets as widgets\n",
    "from pathlib import Path\n",
    "\n",
    "from interface import DupInterface, layouts\n",
    "import table"
   ]
  },
  {
   "cell_type": "markdown",
   "metadata": {},
   "source": [
    "# QGrid"
   ]
  },
  {
   "cell_type": "code",
   "execution_count": null,
   "metadata": {
    "scrolled": false
   },
   "outputs": [],
   "source": [
    "with open(r'jsl\\jsl.yaml', 'r') as file:\n",
    "    cfg = yaml.load(file, Loader=yaml.SafeLoader)\n",
    "\n",
    "di = DupInterface(\n",
    "        pd.DataFrame(),\n",
    "        qgrid_opts=cfg.get('qgrid', {}),\n",
    "        default_columns=cfg.get('default_columns', None),\n",
    "        dup_pre_sel=cfg.get('default_duplicates', None)\n",
    ")\n",
    "di.loader.children[1].value = r'D:/Picture Cleanup/jsl/df.pkl'\n",
    "display(di.widget)"
   ]
  }
 ],
 "metadata": {
  "kernelspec": {
   "display_name": "Python 3",
   "language": "python",
   "name": "python3"
  },
  "language_info": {
   "codemirror_mode": {
    "name": "ipython",
    "version": 3
   },
   "file_extension": ".py",
   "mimetype": "text/x-python",
   "name": "python",
   "nbconvert_exporter": "python",
   "pygments_lexer": "ipython3",
   "version": "3.7.0"
  }
 },
 "nbformat": 4,
 "nbformat_minor": 4
}
