{
 "cells": [
  {
   "cell_type": "markdown",
   "metadata": {},
   "source": [
    "# Imports"
   ]
  },
  {
   "cell_type": "code",
   "execution_count": null,
   "metadata": {},
   "outputs": [],
   "source": [
    "%load_ext autoreload\n",
    "%autoreload 2"
   ]
  },
  {
   "cell_type": "code",
   "execution_count": null,
   "metadata": {},
   "outputs": [],
   "source": [
    "import pandas as pd\n",
    "import qgrid\n",
    "import yaml\n",
    "\n",
    "from pathlib import Path\n",
    "\n",
    "from cleanup import DupInterface, grid_from_yaml\n",
    "from cleanup import SizeSorter\n",
    "from cleanup import stat_df"
   ]
  },
  {
   "cell_type": "markdown",
   "metadata": {},
   "source": [
    "# Load"
   ]
  },
  {
   "cell_type": "code",
   "execution_count": null,
   "metadata": {},
   "outputs": [],
   "source": [
    "yaml_path = Path(r'jsl\\jsl.yaml')\n",
    "\n",
    "with yaml_path.open('r') as file:\n",
    "    cfg = yaml.load(file, Loader=yaml.SafeLoader)\n",
    "df_path = Path(cfg['df'])\n",
    "print(f'Loading {df_path.stat().st_size / (10**6):.2f} MB...')\n",
    "df = pd.read_pickle(df_path)\n",
    "print(f'Loaded {df.shape[0]} rows')"
   ]
  },
  {
   "cell_type": "markdown",
   "metadata": {},
   "source": [
    "# Sort"
   ]
  },
  {
   "cell_type": "code",
   "execution_count": null,
   "metadata": {},
   "outputs": [],
   "source": [
    "ss = SizeSorter.from_yaml(yaml_path, df)"
   ]
  },
  {
   "cell_type": "code",
   "execution_count": null,
   "metadata": {},
   "outputs": [],
   "source": [
    "ss.process()"
   ]
  },
  {
   "cell_type": "code",
   "execution_count": null,
   "metadata": {
    "scrolled": false
   },
   "outputs": [],
   "source": [
    "bool_cols = ss.df.select_dtypes(bool).columns.to_list()\n",
    "cols = cfg['default_columns']\n",
    "\n",
    "g = qgrid.show_grid(\n",
    "    ss.df[cols + bool_cols],\n",
    "    **cfg['qgrid']\n",
    ")\n",
    "\n",
    "display(g)"
   ]
  },
  {
   "cell_type": "markdown",
   "metadata": {},
   "source": [
    "# QGrid"
   ]
  },
  {
   "cell_type": "code",
   "execution_count": null,
   "metadata": {
    "scrolled": false
   },
   "outputs": [],
   "source": [
    "di = DupInterface.from_yaml(yaml_path)\n",
    "di._df = df\n",
    "display(di.widget)"
   ]
  },
  {
   "cell_type": "code",
   "execution_count": null,
   "metadata": {},
   "outputs": [],
   "source": []
  }
 ],
 "metadata": {
  "kernelspec": {
   "display_name": "Python 3",
   "language": "python",
   "name": "python3"
  },
  "language_info": {
   "codemirror_mode": {
    "name": "ipython",
    "version": 3
   },
   "file_extension": ".py",
   "mimetype": "text/x-python",
   "name": "python",
   "nbconvert_exporter": "python",
   "pygments_lexer": "ipython3",
   "version": "3.7.2"
  }
 },
 "nbformat": 4,
 "nbformat_minor": 4
}
